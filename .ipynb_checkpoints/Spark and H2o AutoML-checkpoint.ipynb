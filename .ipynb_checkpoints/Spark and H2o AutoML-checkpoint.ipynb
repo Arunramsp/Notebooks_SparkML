{
 "cells": [
  {
   "cell_type": "code",
   "execution_count": 0,
   "metadata": {
    "colab": {},
    "colab_type": "code",
    "id": "JpCgKe4qbtCu"
   },
   "outputs": [],
   "source": [
    "!apt-get install openjdk-8-jdk-headless -qq > /dev/null\n",
    "!wget -q https://downloads.apache.org/spark/spark-2.4.5/spark-2.4.5-bin-hadoop2.7.tgz\n",
    "!tar xf spark-2.4.5-bin-hadoop2.7.tgz\n",
    "!pip install -q findspark"
   ]
  },
  {
   "cell_type": "code",
   "execution_count": 147,
   "metadata": {
    "colab": {
     "base_uri": "https://localhost:8080/",
     "height": 51
    },
    "colab_type": "code",
    "executionInfo": {
     "elapsed": 43807,
     "status": "ok",
     "timestamp": 1587114589860,
     "user": {
      "displayName": "Gururajan Govindan",
      "photoUrl": "https://lh3.googleusercontent.com/a-/AOh14GgYBf2PzlmOfpD5Bc6iGjaV7fsXDrSlxLCl3q-r=s64",
      "userId": "09321583132982197089"
     },
     "user_tz": -330
    },
    "id": "TiZ7LIIFcms4",
    "outputId": "f21f6b1e-6225-499c-fe47-4aed63e34c7f"
   },
   "outputs": [
    {
     "name": "stdout",
     "output_type": "stream",
     "text": [
      "default-java\t\t   java-11-openjdk-amd64     java-8-openjdk-amd64\n",
      "java-1.11.0-openjdk-amd64  java-1.8.0-openjdk-amd64\n"
     ]
    }
   ],
   "source": [
    "!ls /usr/lib/jvm/"
   ]
  },
  {
   "cell_type": "code",
   "execution_count": 148,
   "metadata": {
    "colab": {
     "base_uri": "https://localhost:8080/",
     "height": 68
    },
    "colab_type": "code",
    "executionInfo": {
     "elapsed": 48458,
     "status": "ok",
     "timestamp": 1587114594525,
     "user": {
      "displayName": "Gururajan Govindan",
      "photoUrl": "https://lh3.googleusercontent.com/a-/AOh14GgYBf2PzlmOfpD5Bc6iGjaV7fsXDrSlxLCl3q-r=s64",
      "userId": "09321583132982197089"
     },
     "user_tz": -330
    },
    "id": "NYtoVzpQcm3Z",
    "outputId": "02fe1298-f989-4685-b9df-63c034f79310"
   },
   "outputs": [
    {
     "name": "stdout",
     "output_type": "stream",
     "text": [
      "Requirement already satisfied: pyarrow==0.15.1 in /usr/local/lib/python3.6/dist-packages (0.15.1)\n",
      "Requirement already satisfied: numpy>=1.14 in /usr/local/lib/python3.6/dist-packages (from pyarrow==0.15.1) (1.18.2)\n",
      "Requirement already satisfied: six>=1.0.0 in /usr/local/lib/python3.6/dist-packages (from pyarrow==0.15.1) (1.12.0)\n"
     ]
    }
   ],
   "source": [
    "!pip install pyarrow==0.15.1"
   ]
  },
  {
   "cell_type": "code",
   "execution_count": 149,
   "metadata": {
    "colab": {
     "base_uri": "https://localhost:8080/",
     "height": 170
    },
    "colab_type": "code",
    "executionInfo": {
     "elapsed": 52496,
     "status": "ok",
     "timestamp": 1587114598588,
     "user": {
      "displayName": "Gururajan Govindan",
      "photoUrl": "https://lh3.googleusercontent.com/a-/AOh14GgYBf2PzlmOfpD5Bc6iGjaV7fsXDrSlxLCl3q-r=s64",
      "userId": "09321583132982197089"
     },
     "user_tz": -330
    },
    "id": "LW67EPF7jQbu",
    "outputId": "11bd269e-d0fe-4934-f2b6-0f2c9e7663b9"
   },
   "outputs": [
    {
     "name": "stdout",
     "output_type": "stream",
     "text": [
      "Requirement already satisfied: h2o-pysparkling-2.4 in /usr/local/lib/python3.6/dist-packages (3.30.0.1.post1)\n",
      "Requirement already satisfied: tabulate in /usr/local/lib/python3.6/dist-packages (from h2o-pysparkling-2.4) (0.8.7)\n",
      "Requirement already satisfied: future in /usr/local/lib/python3.6/dist-packages (from h2o-pysparkling-2.4) (0.16.0)\n",
      "Requirement already satisfied: requests in /usr/local/lib/python3.6/dist-packages (from h2o-pysparkling-2.4) (2.21.0)\n",
      "Requirement already satisfied: colorama>=0.3.8 in /usr/local/lib/python3.6/dist-packages (from h2o-pysparkling-2.4) (0.4.3)\n",
      "Requirement already satisfied: chardet<3.1.0,>=3.0.2 in /usr/local/lib/python3.6/dist-packages (from requests->h2o-pysparkling-2.4) (3.0.4)\n",
      "Requirement already satisfied: certifi>=2017.4.17 in /usr/local/lib/python3.6/dist-packages (from requests->h2o-pysparkling-2.4) (2020.4.5.1)\n",
      "Requirement already satisfied: idna<2.9,>=2.5 in /usr/local/lib/python3.6/dist-packages (from requests->h2o-pysparkling-2.4) (2.8)\n",
      "Requirement already satisfied: urllib3<1.25,>=1.21.1 in /usr/local/lib/python3.6/dist-packages (from requests->h2o-pysparkling-2.4) (1.24.3)\n"
     ]
    }
   ],
   "source": [
    "!pip install h2o-pysparkling-2.4"
   ]
  },
  {
   "cell_type": "code",
   "execution_count": 0,
   "metadata": {
    "colab": {},
    "colab_type": "code",
    "id": "yfm9hYN5cm6O"
   },
   "outputs": [],
   "source": [
    "import os\n",
    "os.environ[\"JAVA_HOME\"] = \"/usr/lib/jvm/java-8-openjdk-amd64\"\n",
    "os.environ[\"SPARK_HOME\"] = \"/content/spark-2.4.5-bin-hadoop2.7\""
   ]
  },
  {
   "cell_type": "code",
   "execution_count": 0,
   "metadata": {
    "colab": {},
    "colab_type": "code",
    "id": "BJCxKtWFcm8p"
   },
   "outputs": [],
   "source": [
    "import findspark\n",
    "findspark.init()\n",
    "from pyspark.sql import SparkSession\n",
    "spark = SparkSession.builder.master(\"local[*]\").getOrCreate()\n",
    "spark.conf.set(\"spark.executor.memory\",'4g')\n",
    "spark.conf.set(\"spark.driver.memory\",'4g')\n",
    "spark.conf.set(\"spark.memory.fraction\",\"0.9\")\n",
    "\n"
   ]
  },
  {
   "cell_type": "code",
   "execution_count": 0,
   "metadata": {
    "colab": {},
    "colab_type": "code",
    "id": "Gy-GqR6scnBh"
   },
   "outputs": [],
   "source": [
    "import sys,tempfile, urllib\n",
    "from pyspark.sql.functions import *"
   ]
  },
  {
   "cell_type": "code",
   "execution_count": 0,
   "metadata": {
    "colab": {},
    "colab_type": "code",
    "id": "4v5mCvELcnER"
   },
   "outputs": [],
   "source": [
    "BASE_DIR = '/tmp'\n",
    "OUTPUT_FILE = os.path.join(BASE_DIR, 'credit_data.csv')"
   ]
  },
  {
   "cell_type": "code",
   "execution_count": 0,
   "metadata": {
    "colab": {},
    "colab_type": "code",
    "id": "-2x_ej1KcnGy"
   },
   "outputs": [],
   "source": [
    "credit_data=urllib.request.urlretrieve('http://archive.ics.uci.edu/ml/machine-learning-databases/credit-screening/crx.data', OUTPUT_FILE)"
   ]
  },
  {
   "cell_type": "code",
   "execution_count": 155,
   "metadata": {
    "colab": {
     "base_uri": "https://localhost:8080/",
     "height": 238
    },
    "colab_type": "code",
    "executionInfo": {
     "elapsed": 56363,
     "status": "ok",
     "timestamp": 1587114602525,
     "user": {
      "displayName": "Gururajan Govindan",
      "photoUrl": "https://lh3.googleusercontent.com/a-/AOh14GgYBf2PzlmOfpD5Bc6iGjaV7fsXDrSlxLCl3q-r=s64",
      "userId": "09321583132982197089"
     },
     "user_tz": -330
    },
    "id": "xsIg2PmLcnMA",
    "outputId": "e200f32c-1b0c-4765-aa01-d2b7e8e9f463"
   },
   "outputs": [
    {
     "name": "stdout",
     "output_type": "stream",
     "text": [
      "blockmgr-a15f1f92-ad78-42d1-9fe7-e104cc2f58ea\n",
      "blockmgr-a7a5f52a-c457-406c-9ad3-b8714eb20257\n",
      "credit_data.csv\n",
      "h2o-root\n",
      "hsperfdata_root\n",
      "liblz4-java3375451381548571362.so\n",
      "liblz4-java3578173284111248435.so\n",
      "libxgboost4j_gpu8046489410702677901.so\n",
      "snappy-1.1.7-99cacd37-6bdd-4b9e-955e-42b64d08697e-libsnappyjava.so\n",
      "spark-29267906-2ade-4986-be54-80a0eaed6a28\n",
      "spark-3550534d-ebc6-47f0-8e8a-22beb3383d98\n",
      "spark-cde55a24-b3b3-4d41-ad23-bf33dc39570e\n",
      "spark-edec4de2-9e6d-4f51-82a9-3313fe794fee\n"
     ]
    }
   ],
   "source": [
    "!ls /tmp"
   ]
  },
  {
   "cell_type": "code",
   "execution_count": 0,
   "metadata": {
    "colab": {},
    "colab_type": "code",
    "id": "-MKc8DMdcnOs"
   },
   "outputs": [],
   "source": [
    "credit_df= spark.read.option(\"inferSchema\",\"true\").csv(\"/tmp/credit_data.csv\",header=False).toDF('c1','c2','c3','c4','c5','c6','c7','c8','c9','c10','c11','c12','c13','c14','c15','c16')"
   ]
  },
  {
   "cell_type": "code",
   "execution_count": 157,
   "metadata": {
    "colab": {
     "base_uri": "https://localhost:8080/",
     "height": 459
    },
    "colab_type": "code",
    "executionInfo": {
     "elapsed": 56973,
     "status": "ok",
     "timestamp": 1587114603188,
     "user": {
      "displayName": "Gururajan Govindan",
      "photoUrl": "https://lh3.googleusercontent.com/a-/AOh14GgYBf2PzlmOfpD5Bc6iGjaV7fsXDrSlxLCl3q-r=s64",
      "userId": "09321583132982197089"
     },
     "user_tz": -330
    },
    "id": "-9kmPZRhcnRL",
    "outputId": "5c705150-1e9f-4459-e8c1-dc69d44b51b3"
   },
   "outputs": [
    {
     "name": "stdout",
     "output_type": "stream",
     "text": [
      "+---+-----+------+---+---+---+---+-----+---+---+---+---+---+-----+-----+---+\n",
      "| c1|   c2|    c3| c4| c5| c6| c7|   c8| c9|c10|c11|c12|c13|  c14|  c15|c16|\n",
      "+---+-----+------+---+---+---+---+-----+---+---+---+---+---+-----+-----+---+\n",
      "|  b|30.83|   0.0|  u|  g|  w|  v| 1.25|  t|  t|  1|  f|  g|00202|    0|  +|\n",
      "|  a|58.67|  4.46|  u|  g|  q|  h| 3.04|  t|  t|  6|  f|  g|00043|  560|  +|\n",
      "|  a|24.50|   0.5|  u|  g|  q|  h|  1.5|  t|  f|  0|  f|  g|00280|  824|  +|\n",
      "|  b|27.83|  1.54|  u|  g|  w|  v| 3.75|  t|  t|  5|  t|  g|00100|    3|  +|\n",
      "|  b|20.17| 5.625|  u|  g|  w|  v| 1.71|  t|  f|  0|  f|  s|00120|    0|  +|\n",
      "|  b|32.08|   4.0|  u|  g|  m|  v|  2.5|  t|  f|  0|  t|  g|00360|    0|  +|\n",
      "|  b|33.17|  1.04|  u|  g|  r|  h|  6.5|  t|  f|  0|  t|  g|00164|31285|  +|\n",
      "|  a|22.92|11.585|  u|  g| cc|  v| 0.04|  t|  f|  0|  f|  g|00080| 1349|  +|\n",
      "|  b|54.42|   0.5|  y|  p|  k|  h| 3.96|  t|  f|  0|  f|  g|00180|  314|  +|\n",
      "|  b|42.50| 4.915|  y|  p|  w|  v|3.165|  t|  f|  0|  t|  g|00052| 1442|  +|\n",
      "|  b|22.08|  0.83|  u|  g|  c|  h|2.165|  f|  f|  0|  t|  g|00128|    0|  +|\n",
      "|  b|29.92| 1.835|  u|  g|  c|  h|4.335|  t|  f|  0|  f|  g|00260|  200|  +|\n",
      "|  a|38.25|   6.0|  u|  g|  k|  v|  1.0|  t|  f|  0|  t|  g|00000|    0|  +|\n",
      "|  b|48.08|  6.04|  u|  g|  k|  v| 0.04|  f|  f|  0|  f|  g|00000| 2690|  +|\n",
      "|  a|45.83|  10.5|  u|  g|  q|  v|  5.0|  t|  t|  7|  t|  g|00000|    0|  +|\n",
      "|  b|36.67| 4.415|  y|  p|  k|  v| 0.25|  t|  t| 10|  t|  g|00320|    0|  +|\n",
      "|  b|28.25| 0.875|  u|  g|  m|  v| 0.96|  t|  t|  3|  t|  g|00396|    0|  +|\n",
      "|  a|23.25| 5.875|  u|  g|  q|  v| 3.17|  t|  t| 10|  f|  g|00120|  245|  +|\n",
      "|  b|21.83|  0.25|  u|  g|  d|  h|0.665|  t|  f|  0|  t|  g|00000|    0|  +|\n",
      "|  a|19.17| 8.585|  u|  g| cc|  h| 0.75|  t|  t|  7|  f|  g|00096|    0|  +|\n",
      "+---+-----+------+---+---+---+---+-----+---+---+---+---+---+-----+-----+---+\n",
      "only showing top 20 rows\n",
      "\n"
     ]
    }
   ],
   "source": [
    "credit_df.show()"
   ]
  },
  {
   "cell_type": "code",
   "execution_count": 158,
   "metadata": {
    "colab": {
     "base_uri": "https://localhost:8080/",
     "height": 34
    },
    "colab_type": "code",
    "executionInfo": {
     "elapsed": 56944,
     "status": "ok",
     "timestamp": 1587114603190,
     "user": {
      "displayName": "Gururajan Govindan",
      "photoUrl": "https://lh3.googleusercontent.com/a-/AOh14GgYBf2PzlmOfpD5Bc6iGjaV7fsXDrSlxLCl3q-r=s64",
      "userId": "09321583132982197089"
     },
     "user_tz": -330
    },
    "id": "s29oYtWdcnT1",
    "outputId": "9b1728b1-edee-482a-d850-f9fdb417a7f4"
   },
   "outputs": [
    {
     "data": {
      "text/plain": [
       "690"
      ]
     },
     "execution_count": 158,
     "metadata": {
      "tags": []
     },
     "output_type": "execute_result"
    }
   ],
   "source": [
    "credit_df.count()"
   ]
  },
  {
   "cell_type": "code",
   "execution_count": 159,
   "metadata": {
    "colab": {
     "base_uri": "https://localhost:8080/",
     "height": 136
    },
    "colab_type": "code",
    "executionInfo": {
     "elapsed": 57542,
     "status": "ok",
     "timestamp": 1587114603809,
     "user": {
      "displayName": "Gururajan Govindan",
      "photoUrl": "https://lh3.googleusercontent.com/a-/AOh14GgYBf2PzlmOfpD5Bc6iGjaV7fsXDrSlxLCl3q-r=s64",
      "userId": "09321583132982197089"
     },
     "user_tz": -330
    },
    "id": "UsbR_WbRo1Qv",
    "outputId": "e68276dc-400a-486b-d93a-07e7a00203fb"
   },
   "outputs": [
    {
     "name": "stdout",
     "output_type": "stream",
     "text": [
      "+---+-----+\n",
      "|c16|count|\n",
      "+---+-----+\n",
      "|  +|  307|\n",
      "|  -|  383|\n",
      "+---+-----+\n",
      "\n"
     ]
    }
   ],
   "source": [
    "credit_df.groupBy('c16').count().show()"
   ]
  },
  {
   "cell_type": "code",
   "execution_count": 160,
   "metadata": {
    "colab": {
     "base_uri": "https://localhost:8080/",
     "height": 119
    },
    "colab_type": "code",
    "executionInfo": {
     "elapsed": 58159,
     "status": "ok",
     "timestamp": 1587114604449,
     "user": {
      "displayName": "Gururajan Govindan",
      "photoUrl": "https://lh3.googleusercontent.com/a-/AOh14GgYBf2PzlmOfpD5Bc6iGjaV7fsXDrSlxLCl3q-r=s64",
      "userId": "09321583132982197089"
     },
     "user_tz": -330
    },
    "id": "u_PL6eaRcnJc",
    "outputId": "94d76799-3323-42fd-db14-a03614b65752"
   },
   "outputs": [
    {
     "name": "stdout",
     "output_type": "stream",
     "text": [
      "+---+---+---+---+---+---+---+---+---+---+---+---+---+---+---+---+\n",
      "| c1| c2| c3| c4| c5| c6| c7| c8| c9|c10|c11|c12|c13|c14|c15|c16|\n",
      "+---+---+---+---+---+---+---+---+---+---+---+---+---+---+---+---+\n",
      "|  0|  0|  0|  0|  0|  0|  0|  0|  0|  0|  0|  0|  0|  0|  0|  0|\n",
      "+---+---+---+---+---+---+---+---+---+---+---+---+---+---+---+---+\n",
      "\n"
     ]
    }
   ],
   "source": [
    "from pyspark.sql.functions import isnan,when,count,col\n",
    "credit_df.select([count(when(isnan(c) | col(c).isNull(),c)).alias(c) for c in credit_df.columns]).show()"
   ]
  },
  {
   "cell_type": "code",
   "execution_count": 0,
   "metadata": {
    "colab": {},
    "colab_type": "code",
    "id": "EQ0UOJRvpUMM"
   },
   "outputs": [],
   "source": [
    "credit_df=credit_df.withColumn('c16',when(col('c16') == '+',1).otherwise(0))"
   ]
  },
  {
   "cell_type": "code",
   "execution_count": 162,
   "metadata": {
    "colab": {
     "base_uri": "https://localhost:8080/",
     "height": 459
    },
    "colab_type": "code",
    "executionInfo": {
     "elapsed": 58121,
     "status": "ok",
     "timestamp": 1587114604452,
     "user": {
      "displayName": "Gururajan Govindan",
      "photoUrl": "https://lh3.googleusercontent.com/a-/AOh14GgYBf2PzlmOfpD5Bc6iGjaV7fsXDrSlxLCl3q-r=s64",
      "userId": "09321583132982197089"
     },
     "user_tz": -330
    },
    "id": "E8y8MqHNqKsk",
    "outputId": "e540136a-3c02-4123-8280-cfc95e9d52d0"
   },
   "outputs": [
    {
     "name": "stdout",
     "output_type": "stream",
     "text": [
      "+---+-----+------+---+---+---+---+-----+---+---+---+---+---+-----+-----+---+\n",
      "| c1|   c2|    c3| c4| c5| c6| c7|   c8| c9|c10|c11|c12|c13|  c14|  c15|c16|\n",
      "+---+-----+------+---+---+---+---+-----+---+---+---+---+---+-----+-----+---+\n",
      "|  b|30.83|   0.0|  u|  g|  w|  v| 1.25|  t|  t|  1|  f|  g|00202|    0|  1|\n",
      "|  a|58.67|  4.46|  u|  g|  q|  h| 3.04|  t|  t|  6|  f|  g|00043|  560|  1|\n",
      "|  a|24.50|   0.5|  u|  g|  q|  h|  1.5|  t|  f|  0|  f|  g|00280|  824|  1|\n",
      "|  b|27.83|  1.54|  u|  g|  w|  v| 3.75|  t|  t|  5|  t|  g|00100|    3|  1|\n",
      "|  b|20.17| 5.625|  u|  g|  w|  v| 1.71|  t|  f|  0|  f|  s|00120|    0|  1|\n",
      "|  b|32.08|   4.0|  u|  g|  m|  v|  2.5|  t|  f|  0|  t|  g|00360|    0|  1|\n",
      "|  b|33.17|  1.04|  u|  g|  r|  h|  6.5|  t|  f|  0|  t|  g|00164|31285|  1|\n",
      "|  a|22.92|11.585|  u|  g| cc|  v| 0.04|  t|  f|  0|  f|  g|00080| 1349|  1|\n",
      "|  b|54.42|   0.5|  y|  p|  k|  h| 3.96|  t|  f|  0|  f|  g|00180|  314|  1|\n",
      "|  b|42.50| 4.915|  y|  p|  w|  v|3.165|  t|  f|  0|  t|  g|00052| 1442|  1|\n",
      "|  b|22.08|  0.83|  u|  g|  c|  h|2.165|  f|  f|  0|  t|  g|00128|    0|  1|\n",
      "|  b|29.92| 1.835|  u|  g|  c|  h|4.335|  t|  f|  0|  f|  g|00260|  200|  1|\n",
      "|  a|38.25|   6.0|  u|  g|  k|  v|  1.0|  t|  f|  0|  t|  g|00000|    0|  1|\n",
      "|  b|48.08|  6.04|  u|  g|  k|  v| 0.04|  f|  f|  0|  f|  g|00000| 2690|  1|\n",
      "|  a|45.83|  10.5|  u|  g|  q|  v|  5.0|  t|  t|  7|  t|  g|00000|    0|  1|\n",
      "|  b|36.67| 4.415|  y|  p|  k|  v| 0.25|  t|  t| 10|  t|  g|00320|    0|  1|\n",
      "|  b|28.25| 0.875|  u|  g|  m|  v| 0.96|  t|  t|  3|  t|  g|00396|    0|  1|\n",
      "|  a|23.25| 5.875|  u|  g|  q|  v| 3.17|  t|  t| 10|  f|  g|00120|  245|  1|\n",
      "|  b|21.83|  0.25|  u|  g|  d|  h|0.665|  t|  f|  0|  t|  g|00000|    0|  1|\n",
      "|  a|19.17| 8.585|  u|  g| cc|  h| 0.75|  t|  t|  7|  f|  g|00096|    0|  1|\n",
      "+---+-----+------+---+---+---+---+-----+---+---+---+---+---+-----+-----+---+\n",
      "only showing top 20 rows\n",
      "\n"
     ]
    }
   ],
   "source": [
    "credit_df.show()"
   ]
  },
  {
   "cell_type": "code",
   "execution_count": 163,
   "metadata": {
    "colab": {
     "base_uri": "https://localhost:8080/",
     "height": 207
    },
    "colab_type": "code",
    "executionInfo": {
     "elapsed": 58776,
     "status": "ok",
     "timestamp": 1587114605162,
     "user": {
      "displayName": "Gururajan Govindan",
      "photoUrl": "https://lh3.googleusercontent.com/a-/AOh14GgYBf2PzlmOfpD5Bc6iGjaV7fsXDrSlxLCl3q-r=s64",
      "userId": "09321583132982197089"
     },
     "user_tz": -330
    },
    "id": "9m-5KrvFqK32",
    "outputId": "4864f716-833c-4add-a093-7b22a58b6fd0"
   },
   "outputs": [
    {
     "name": "stdout",
     "output_type": "stream",
     "text": [
      "+-------+----+-----------------+------------------+----+----+----+----+------------------+----+----+-----------------+----+----+------------------+------------------+------------------+\n",
      "|summary|  c1|               c2|                c3|  c4|  c5|  c6|  c7|                c8|  c9| c10|              c11| c12| c13|               c14|               c15|               c16|\n",
      "+-------+----+-----------------+------------------+----+----+----+----+------------------+----+----+-----------------+----+----+------------------+------------------+------------------+\n",
      "|  count| 690|              690|               690| 690| 690| 690| 690|               690| 690| 690|              690| 690| 690|               690|               690|               690|\n",
      "|   mean|null|31.56817109144546|4.7587246376811585|null|null|null|null|2.2234057971014476|null|null|              2.4|null|null|184.01477104874445|1017.3855072463768|0.4449275362318841|\n",
      "| stddev|null|11.95786249827088| 4.978163248528541|null|null|null|null| 3.346513359278135|null|null|4.862940034226994|null|null|173.80676822523822| 5210.102598302688|0.4973182747893889|\n",
      "|    min|   ?|            13.75|               0.0|   ?|   ?|   ?|   ?|               0.0|   f|   f|                0|   f|   g|             00000|                 0|                 0|\n",
      "|    max|   b|                ?|              28.0|   y|   p|   x|   z|              28.5|   t|   t|               67|   t|   s|                 ?|            100000|                 1|\n",
      "+-------+----+-----------------+------------------+----+----+----+----+------------------+----+----+-----------------+----+----+------------------+------------------+------------------+\n",
      "\n"
     ]
    }
   ],
   "source": [
    "credit_df.describe().show()"
   ]
  },
  {
   "cell_type": "code",
   "execution_count": 164,
   "metadata": {
    "colab": {
     "base_uri": "https://localhost:8080/",
     "height": 323
    },
    "colab_type": "code",
    "executionInfo": {
     "elapsed": 58756,
     "status": "ok",
     "timestamp": 1587114605163,
     "user": {
      "displayName": "Gururajan Govindan",
      "photoUrl": "https://lh3.googleusercontent.com/a-/AOh14GgYBf2PzlmOfpD5Bc6iGjaV7fsXDrSlxLCl3q-r=s64",
      "userId": "09321583132982197089"
     },
     "user_tz": -330
    },
    "id": "EaGtFGhDqK-Z",
    "outputId": "cdb94e4a-b697-42b2-b745-201533168fc9"
   },
   "outputs": [
    {
     "name": "stdout",
     "output_type": "stream",
     "text": [
      "root\n",
      " |-- c1: string (nullable = true)\n",
      " |-- c2: string (nullable = true)\n",
      " |-- c3: double (nullable = true)\n",
      " |-- c4: string (nullable = true)\n",
      " |-- c5: string (nullable = true)\n",
      " |-- c6: string (nullable = true)\n",
      " |-- c7: string (nullable = true)\n",
      " |-- c8: double (nullable = true)\n",
      " |-- c9: string (nullable = true)\n",
      " |-- c10: string (nullable = true)\n",
      " |-- c11: integer (nullable = true)\n",
      " |-- c12: string (nullable = true)\n",
      " |-- c13: string (nullable = true)\n",
      " |-- c14: string (nullable = true)\n",
      " |-- c15: integer (nullable = true)\n",
      " |-- c16: integer (nullable = false)\n",
      "\n"
     ]
    }
   ],
   "source": [
    "credit_df.printSchema()"
   ]
  },
  {
   "cell_type": "code",
   "execution_count": 165,
   "metadata": {
    "colab": {
     "base_uri": "https://localhost:8080/",
     "height": 119
    },
    "colab_type": "code",
    "executionInfo": {
     "elapsed": 59329,
     "status": "ok",
     "timestamp": 1587114605752,
     "user": {
      "displayName": "Gururajan Govindan",
      "photoUrl": "https://lh3.googleusercontent.com/a-/AOh14GgYBf2PzlmOfpD5Bc6iGjaV7fsXDrSlxLCl3q-r=s64",
      "userId": "09321583132982197089"
     },
     "user_tz": -330
    },
    "id": "L_cKYhSTqLA9",
    "outputId": "11a9b590-6ba0-4db8-b800-7a26242cfbd3"
   },
   "outputs": [
    {
     "name": "stdout",
     "output_type": "stream",
     "text": [
      "+---+---+---+---+---+---+---+---+---+---+---+---+---+---+---+---+\n",
      "| c1| c2| c3| c4| c5| c6| c7| c8| c9|c10|c11|c12|c13|c14|c15|c16|\n",
      "+---+---+---+---+---+---+---+---+---+---+---+---+---+---+---+---+\n",
      "| 12| 12|  0|  6|  6|  9|  9|  0|  0|  0|  0|  0|  0| 13|  0|  0|\n",
      "+---+---+---+---+---+---+---+---+---+---+---+---+---+---+---+---+\n",
      "\n"
     ]
    }
   ],
   "source": [
    "credit_df.select([count(when(col(c) == '?',c)).alias(c) for c in credit_df.columns]).show()"
   ]
  },
  {
   "cell_type": "markdown",
   "metadata": {
    "colab_type": "text",
    "id": "3C2t9jFYHnfY"
   },
   "source": [
    "**The null values on the dataframe are filled with ?**"
   ]
  },
  {
   "cell_type": "code",
   "execution_count": 0,
   "metadata": {
    "colab": {},
    "colab_type": "code",
    "id": "JChhjOw5qLEC"
   },
   "outputs": [],
   "source": [
    "spark.conf.set(\"spark.sql.execution.arrow.enabled\",\"true\")\n",
    "crp_df=credit_df.toPandas()"
   ]
  },
  {
   "cell_type": "markdown",
   "metadata": {
    "colab_type": "text",
    "id": "a8qtNH2BH0ba"
   },
   "source": [
    "***Enabling PyArrow***"
   ]
  },
  {
   "cell_type": "markdown",
   "metadata": {
    "colab_type": "text",
    "id": "gR-MlkwNui8X"
   },
   "source": [
    "Fixing the Data "
   ]
  },
  {
   "cell_type": "code",
   "execution_count": 0,
   "metadata": {
    "colab": {},
    "colab_type": "code",
    "id": "xQhdceASqLLR"
   },
   "outputs": [],
   "source": [
    "credit_df=credit_df.replace(\"?\",None)"
   ]
  },
  {
   "cell_type": "code",
   "execution_count": 168,
   "metadata": {
    "colab": {
     "base_uri": "https://localhost:8080/",
     "height": 119
    },
    "colab_type": "code",
    "executionInfo": {
     "elapsed": 59806,
     "status": "ok",
     "timestamp": 1587114606316,
     "user": {
      "displayName": "Gururajan Govindan",
      "photoUrl": "https://lh3.googleusercontent.com/a-/AOh14GgYBf2PzlmOfpD5Bc6iGjaV7fsXDrSlxLCl3q-r=s64",
      "userId": "09321583132982197089"
     },
     "user_tz": -330
    },
    "id": "E4aniUD8qLNr",
    "outputId": "cb06fccd-ef44-4619-e9b1-fc38e7a6174c"
   },
   "outputs": [
    {
     "name": "stdout",
     "output_type": "stream",
     "text": [
      "+---+---+---+---+---+---+---+---+---+---+---+---+---+---+---+---+\n",
      "| c1| c2| c3| c4| c5| c6| c7| c8| c9|c10|c11|c12|c13|c14|c15|c16|\n",
      "+---+---+---+---+---+---+---+---+---+---+---+---+---+---+---+---+\n",
      "| 12| 12|  0|  6|  6|  9|  9|  0|  0|  0|  0|  0|  0| 13|  0|  0|\n",
      "+---+---+---+---+---+---+---+---+---+---+---+---+---+---+---+---+\n",
      "\n"
     ]
    }
   ],
   "source": [
    "credit_df.select([count(when(isnan(c) | col(c).isNull(),c)).alias(c) for c in credit_df.columns]).show()"
   ]
  },
  {
   "cell_type": "code",
   "execution_count": 0,
   "metadata": {
    "colab": {},
    "colab_type": "code",
    "id": "nEUOS2AIqLQS"
   },
   "outputs": [],
   "source": [
    "credit_df=credit_df.withColumn('c14',col('c14').cast('int')).withColumn('c2',col('c2').cast('double'))"
   ]
  },
  {
   "cell_type": "code",
   "execution_count": 170,
   "metadata": {
    "colab": {
     "base_uri": "https://localhost:8080/",
     "height": 459
    },
    "colab_type": "code",
    "executionInfo": {
     "elapsed": 59784,
     "status": "ok",
     "timestamp": 1587114606318,
     "user": {
      "displayName": "Gururajan Govindan",
      "photoUrl": "https://lh3.googleusercontent.com/a-/AOh14GgYBf2PzlmOfpD5Bc6iGjaV7fsXDrSlxLCl3q-r=s64",
      "userId": "09321583132982197089"
     },
     "user_tz": -330
    },
    "id": "gwbYqKpjv8zd",
    "outputId": "7115dead-73fe-4934-fdcc-30d098c83cee"
   },
   "outputs": [
    {
     "name": "stdout",
     "output_type": "stream",
     "text": [
      "+---+-----+------+---+---+---+---+-----+---+---+---+---+---+---+-----+---+\n",
      "| c1|   c2|    c3| c4| c5| c6| c7|   c8| c9|c10|c11|c12|c13|c14|  c15|c16|\n",
      "+---+-----+------+---+---+---+---+-----+---+---+---+---+---+---+-----+---+\n",
      "|  b|30.83|   0.0|  u|  g|  w|  v| 1.25|  t|  t|  1|  f|  g|202|    0|  1|\n",
      "|  a|58.67|  4.46|  u|  g|  q|  h| 3.04|  t|  t|  6|  f|  g| 43|  560|  1|\n",
      "|  a| 24.5|   0.5|  u|  g|  q|  h|  1.5|  t|  f|  0|  f|  g|280|  824|  1|\n",
      "|  b|27.83|  1.54|  u|  g|  w|  v| 3.75|  t|  t|  5|  t|  g|100|    3|  1|\n",
      "|  b|20.17| 5.625|  u|  g|  w|  v| 1.71|  t|  f|  0|  f|  s|120|    0|  1|\n",
      "|  b|32.08|   4.0|  u|  g|  m|  v|  2.5|  t|  f|  0|  t|  g|360|    0|  1|\n",
      "|  b|33.17|  1.04|  u|  g|  r|  h|  6.5|  t|  f|  0|  t|  g|164|31285|  1|\n",
      "|  a|22.92|11.585|  u|  g| cc|  v| 0.04|  t|  f|  0|  f|  g| 80| 1349|  1|\n",
      "|  b|54.42|   0.5|  y|  p|  k|  h| 3.96|  t|  f|  0|  f|  g|180|  314|  1|\n",
      "|  b| 42.5| 4.915|  y|  p|  w|  v|3.165|  t|  f|  0|  t|  g| 52| 1442|  1|\n",
      "|  b|22.08|  0.83|  u|  g|  c|  h|2.165|  f|  f|  0|  t|  g|128|    0|  1|\n",
      "|  b|29.92| 1.835|  u|  g|  c|  h|4.335|  t|  f|  0|  f|  g|260|  200|  1|\n",
      "|  a|38.25|   6.0|  u|  g|  k|  v|  1.0|  t|  f|  0|  t|  g|  0|    0|  1|\n",
      "|  b|48.08|  6.04|  u|  g|  k|  v| 0.04|  f|  f|  0|  f|  g|  0| 2690|  1|\n",
      "|  a|45.83|  10.5|  u|  g|  q|  v|  5.0|  t|  t|  7|  t|  g|  0|    0|  1|\n",
      "|  b|36.67| 4.415|  y|  p|  k|  v| 0.25|  t|  t| 10|  t|  g|320|    0|  1|\n",
      "|  b|28.25| 0.875|  u|  g|  m|  v| 0.96|  t|  t|  3|  t|  g|396|    0|  1|\n",
      "|  a|23.25| 5.875|  u|  g|  q|  v| 3.17|  t|  t| 10|  f|  g|120|  245|  1|\n",
      "|  b|21.83|  0.25|  u|  g|  d|  h|0.665|  t|  f|  0|  t|  g|  0|    0|  1|\n",
      "|  a|19.17| 8.585|  u|  g| cc|  h| 0.75|  t|  t|  7|  f|  g| 96|    0|  1|\n",
      "+---+-----+------+---+---+---+---+-----+---+---+---+---+---+---+-----+---+\n",
      "only showing top 20 rows\n",
      "\n"
     ]
    }
   ],
   "source": [
    "credit_df.show()"
   ]
  },
  {
   "cell_type": "code",
   "execution_count": 171,
   "metadata": {
    "colab": {
     "base_uri": "https://localhost:8080/",
     "height": 323
    },
    "colab_type": "code",
    "executionInfo": {
     "elapsed": 59774,
     "status": "ok",
     "timestamp": 1587114606319,
     "user": {
      "displayName": "Gururajan Govindan",
      "photoUrl": "https://lh3.googleusercontent.com/a-/AOh14GgYBf2PzlmOfpD5Bc6iGjaV7fsXDrSlxLCl3q-r=s64",
      "userId": "09321583132982197089"
     },
     "user_tz": -330
    },
    "id": "DPH8zIToqLVe",
    "outputId": "4818711f-16f6-409c-c377-bf8c23e40f3d"
   },
   "outputs": [
    {
     "name": "stdout",
     "output_type": "stream",
     "text": [
      "root\n",
      " |-- c1: string (nullable = true)\n",
      " |-- c2: double (nullable = true)\n",
      " |-- c3: double (nullable = true)\n",
      " |-- c4: string (nullable = true)\n",
      " |-- c5: string (nullable = true)\n",
      " |-- c6: string (nullable = true)\n",
      " |-- c7: string (nullable = true)\n",
      " |-- c8: double (nullable = true)\n",
      " |-- c9: string (nullable = true)\n",
      " |-- c10: string (nullable = true)\n",
      " |-- c11: integer (nullable = true)\n",
      " |-- c12: string (nullable = true)\n",
      " |-- c13: string (nullable = true)\n",
      " |-- c14: integer (nullable = true)\n",
      " |-- c15: integer (nullable = true)\n",
      " |-- c16: integer (nullable = false)\n",
      "\n"
     ]
    }
   ],
   "source": [
    "credit_df.printSchema()"
   ]
  },
  {
   "cell_type": "code",
   "execution_count": 0,
   "metadata": {
    "colab": {},
    "colab_type": "code",
    "id": "voFPVbRhqLYA"
   },
   "outputs": [],
   "source": [
    "categorical=['c1','c4','c5','c6','c7','c9','c10','c12','c13']"
   ]
  },
  {
   "cell_type": "code",
   "execution_count": 0,
   "metadata": {
    "colab": {},
    "colab_type": "code",
    "id": "Sz4ICkefqLag"
   },
   "outputs": [],
   "source": [
    "crp_df=credit_df.toPandas()"
   ]
  },
  {
   "cell_type": "code",
   "execution_count": 174,
   "metadata": {
    "colab": {
     "base_uri": "https://localhost:8080/",
     "height": 1000
    },
    "colab_type": "code",
    "executionInfo": {
     "elapsed": 80282,
     "status": "ok",
     "timestamp": 1587114626851,
     "user": {
      "displayName": "Gururajan Govindan",
      "photoUrl": "https://lh3.googleusercontent.com/a-/AOh14GgYBf2PzlmOfpD5Bc6iGjaV7fsXDrSlxLCl3q-r=s64",
      "userId": "09321583132982197089"
     },
     "user_tz": -330
    },
    "id": "5tWC3xwmqLdO",
    "outputId": "22da55be-6471-4ad5-ed69-f1de2bd602c2"
   },
   "outputs": [
    {
     "data": {
      "image/png": "[encoded data removed]",
      "text/plain": [
       "<Figure size 1260x1260 with 56 Axes>"
      ]
     },
     "metadata": {
      "needs_background": "light",
      "tags": []
     },
     "output_type": "display_data"
    }
   ],
   "source": [
    "import matplotlib.pyplot as plt\n",
    "import seaborn as sns\n",
    "g=sns.pairplot(crp_df[['c2','c3','c8','c11','c14','c15','c16']])"
   ]
  },
  {
   "cell_type": "code",
   "execution_count": 175,
   "metadata": {
    "colab": {
     "base_uri": "https://localhost:8080/",
     "height": 282
    },
    "colab_type": "code",
    "executionInfo": {
     "elapsed": 80269,
     "status": "ok",
     "timestamp": 1587114626852,
     "user": {
      "displayName": "Gururajan Govindan",
      "photoUrl": "https://lh3.googleusercontent.com/a-/AOh14GgYBf2PzlmOfpD5Bc6iGjaV7fsXDrSlxLCl3q-r=s64",
      "userId": "09321583132982197089"
     },
     "user_tz": -330
    },
    "id": "R7mkod7SqLgs",
    "outputId": "ae1d46a3-6dee-4fc2-fc48-9326745cfd48"
   },
   "outputs": [
    {
     "data": {
      "text/plain": [
       "<matplotlib.axes._subplots.AxesSubplot at 0x7fc6cb98e6d8>"
      ]
     },
     "execution_count": 175,
     "metadata": {
      "tags": []
     },
     "output_type": "execute_result"
    },
    {
     "data": {
      "image/png": "[encoded data removed]",
      "text/plain": [
       "<Figure size 432x288 with 1 Axes>"
      ]
     },
     "metadata": {
      "needs_background": "light",
      "tags": []
     },
     "output_type": "display_data"
    }
   ],
   "source": [
    "crp_df[['c2','c3','c8','c11']].boxplot()\n"
   ]
  },
  {
   "cell_type": "code",
   "execution_count": 176,
   "metadata": {
    "colab": {
     "base_uri": "https://localhost:8080/",
     "height": 282
    },
    "colab_type": "code",
    "executionInfo": {
     "elapsed": 80255,
     "status": "ok",
     "timestamp": 1587114626853,
     "user": {
      "displayName": "Gururajan Govindan",
      "photoUrl": "https://lh3.googleusercontent.com/a-/AOh14GgYBf2PzlmOfpD5Bc6iGjaV7fsXDrSlxLCl3q-r=s64",
      "userId": "09321583132982197089"
     },
     "user_tz": -330
    },
    "id": "-nEeuwnrqLkh",
    "outputId": "b75d16a6-1087-4a37-feed-5b66bd0d277e"
   },
   "outputs": [
    {
     "data": {
      "text/plain": [
       "<matplotlib.axes._subplots.AxesSubplot at 0x7fc6cb970d68>"
      ]
     },
     "execution_count": 176,
     "metadata": {
      "tags": []
     },
     "output_type": "execute_result"
    },
    {
     "data": {
      "image/png": "[encoded data removed]",
      "text/plain": [
       "<Figure size 432x288 with 1 Axes>"
      ]
     },
     "metadata": {
      "needs_background": "light",
      "tags": []
     },
     "output_type": "display_data"
    }
   ],
   "source": [
    "crp_df[['c14','c15','c16']].boxplot()"
   ]
  },
  {
   "cell_type": "code",
   "execution_count": 177,
   "metadata": {
    "colab": {
     "base_uri": "https://localhost:8080/",
     "height": 266
    },
    "colab_type": "code",
    "executionInfo": {
     "elapsed": 80237,
     "status": "ok",
     "timestamp": 1587114626853,
     "user": {
      "displayName": "Gururajan Govindan",
      "photoUrl": "https://lh3.googleusercontent.com/a-/AOh14GgYBf2PzlmOfpD5Bc6iGjaV7fsXDrSlxLCl3q-r=s64",
      "userId": "09321583132982197089"
     },
     "user_tz": -330
    },
    "id": "1j-BjXd-qLpN",
    "outputId": "f544c48f-e8d6-47b8-d501-37a662552f76"
   },
   "outputs": [
    {
     "data": {
      "text/html": [
       "<div>\n",
       "<style scoped>\n",
       "    .dataframe tbody tr th:only-of-type {\n",
       "        vertical-align: middle;\n",
       "    }\n",
       "\n",
       "    .dataframe tbody tr th {\n",
       "        vertical-align: top;\n",
       "    }\n",
       "\n",
       "    .dataframe thead th {\n",
       "        text-align: right;\n",
       "    }\n",
       "</style>\n",
       "<table border=\"1\" class=\"dataframe\">\n",
       "  <thead>\n",
       "    <tr style=\"text-align: right;\">\n",
       "      <th></th>\n",
       "      <th>c2</th>\n",
       "      <th>c3</th>\n",
       "      <th>c8</th>\n",
       "      <th>c11</th>\n",
       "      <th>c14</th>\n",
       "      <th>c15</th>\n",
       "      <th>c16</th>\n",
       "    </tr>\n",
       "  </thead>\n",
       "  <tbody>\n",
       "    <tr>\n",
       "      <th>c2</th>\n",
       "      <td>1.000000</td>\n",
       "      <td>0.202317</td>\n",
       "      <td>0.395751</td>\n",
       "      <td>0.185912</td>\n",
       "      <td>-0.079812</td>\n",
       "      <td>0.018553</td>\n",
       "      <td>0.162881</td>\n",
       "    </tr>\n",
       "    <tr>\n",
       "      <th>c3</th>\n",
       "      <td>0.202317</td>\n",
       "      <td>1.000000</td>\n",
       "      <td>0.298902</td>\n",
       "      <td>0.271207</td>\n",
       "      <td>-0.224242</td>\n",
       "      <td>0.123121</td>\n",
       "      <td>0.206294</td>\n",
       "    </tr>\n",
       "    <tr>\n",
       "      <th>c8</th>\n",
       "      <td>0.395751</td>\n",
       "      <td>0.298902</td>\n",
       "      <td>1.000000</td>\n",
       "      <td>0.322330</td>\n",
       "      <td>-0.077163</td>\n",
       "      <td>0.051345</td>\n",
       "      <td>0.322475</td>\n",
       "    </tr>\n",
       "    <tr>\n",
       "      <th>c11</th>\n",
       "      <td>0.185912</td>\n",
       "      <td>0.271207</td>\n",
       "      <td>0.322330</td>\n",
       "      <td>1.000000</td>\n",
       "      <td>-0.120096</td>\n",
       "      <td>0.063692</td>\n",
       "      <td>0.406410</td>\n",
       "    </tr>\n",
       "    <tr>\n",
       "      <th>c14</th>\n",
       "      <td>-0.079812</td>\n",
       "      <td>-0.224242</td>\n",
       "      <td>-0.077163</td>\n",
       "      <td>-0.120096</td>\n",
       "      <td>1.000000</td>\n",
       "      <td>0.066853</td>\n",
       "      <td>-0.100935</td>\n",
       "    </tr>\n",
       "    <tr>\n",
       "      <th>c15</th>\n",
       "      <td>0.018553</td>\n",
       "      <td>0.123121</td>\n",
       "      <td>0.051345</td>\n",
       "      <td>0.063692</td>\n",
       "      <td>0.066853</td>\n",
       "      <td>1.000000</td>\n",
       "      <td>0.175657</td>\n",
       "    </tr>\n",
       "    <tr>\n",
       "      <th>c16</th>\n",
       "      <td>0.162881</td>\n",
       "      <td>0.206294</td>\n",
       "      <td>0.322475</td>\n",
       "      <td>0.406410</td>\n",
       "      <td>-0.100935</td>\n",
       "      <td>0.175657</td>\n",
       "      <td>1.000000</td>\n",
       "    </tr>\n",
       "  </tbody>\n",
       "</table>\n",
       "</div>"
      ],
      "text/plain": [
       "           c2        c3        c8       c11       c14       c15       c16\n",
       "c2   1.000000  0.202317  0.395751  0.185912 -0.079812  0.018553  0.162881\n",
       "c3   0.202317  1.000000  0.298902  0.271207 -0.224242  0.123121  0.206294\n",
       "c8   0.395751  0.298902  1.000000  0.322330 -0.077163  0.051345  0.322475\n",
       "c11  0.185912  0.271207  0.322330  1.000000 -0.120096  0.063692  0.406410\n",
       "c14 -0.079812 -0.224242 -0.077163 -0.120096  1.000000  0.066853 -0.100935\n",
       "c15  0.018553  0.123121  0.051345  0.063692  0.066853  1.000000  0.175657\n",
       "c16  0.162881  0.206294  0.322475  0.406410 -0.100935  0.175657  1.000000"
      ]
     },
     "execution_count": 177,
     "metadata": {
      "tags": []
     },
     "output_type": "execute_result"
    }
   ],
   "source": [
    "crp_df[['c2','c3','c8','c11','c14','c15','c16']].corr()"
   ]
  },
  {
   "cell_type": "markdown",
   "metadata": {
    "colab_type": "text",
    "id": "mVLUlZnS7Tgw"
   },
   "source": [
    "Building a AutoML model"
   ]
  },
  {
   "cell_type": "code",
   "execution_count": 0,
   "metadata": {
    "colab": {},
    "colab_type": "code",
    "id": "brHMg3vxqLwy"
   },
   "outputs": [],
   "source": [
    "train_data, test_data = credit_df.randomSplit([0.7, 0.3], seed = 24)"
   ]
  },
  {
   "cell_type": "code",
   "execution_count": 0,
   "metadata": {
    "colab": {},
    "colab_type": "code",
    "id": "bZY9j0r_qLzh"
   },
   "outputs": [],
   "source": [
    "from pyspark.ml import Pipeline\n",
    "from pyspark.ml.feature import OneHotEncoderEstimator,StringIndexer, VectorAssembler\n",
    "from pysparkling.ml import H2OAutoML"
   ]
  },
  {
   "cell_type": "code",
   "execution_count": 180,
   "metadata": {
    "colab": {
     "base_uri": "https://localhost:8080/",
     "height": 54
    },
    "colab_type": "code",
    "executionInfo": {
     "elapsed": 80210,
     "status": "ok",
     "timestamp": 1587114626857,
     "user": {
      "displayName": "Gururajan Govindan",
      "photoUrl": "https://lh3.googleusercontent.com/a-/AOh14GgYBf2PzlmOfpD5Bc6iGjaV7fsXDrSlxLCl3q-r=s64",
      "userId": "09321583132982197089"
     },
     "user_tz": -330
    },
    "id": "N3ThjHcWqLjQ",
    "outputId": "b71208e9-57b8-4b7b-ab7a-6a108760ac44"
   },
   "outputs": [
    {
     "data": {
      "text/plain": [
       "DataFrame[c1: string, c2: double, c3: double, c4: string, c5: string, c6: string, c7: string, c8: double, c9: string, c10: string, c11: int, c12: string, c13: string, c14: int, c15: int, c16: int]"
      ]
     },
     "execution_count": 180,
     "metadata": {
      "tags": []
     },
     "output_type": "execute_result"
    }
   ],
   "source": [
    "train_data.persist()\n",
    "test_data.cache()"
   ]
  },
  {
   "cell_type": "code",
   "execution_count": 0,
   "metadata": {
    "colab": {},
    "colab_type": "code",
    "id": "KgRahKaWqLS_"
   },
   "outputs": [],
   "source": [
    "automlEstimator=H2OAutoML(maxRuntimeSecs=60,splitRatio=0.9,labelCol='c16')"
   ]
  },
  {
   "cell_type": "code",
   "execution_count": 182,
   "metadata": {
    "colab": {
     "base_uri": "https://localhost:8080/",
     "height": 71
    },
    "colab_type": "code",
    "executionInfo": {
     "elapsed": 80197,
     "status": "ok",
     "timestamp": 1587114626858,
     "user": {
      "displayName": "Gururajan Govindan",
      "photoUrl": "https://lh3.googleusercontent.com/a-/AOh14GgYBf2PzlmOfpD5Bc6iGjaV7fsXDrSlxLCl3q-r=s64",
      "userId": "09321583132982197089"
     },
     "user_tz": -330
    },
    "id": "AfW0KlaJFsvk",
    "outputId": "0cbb2e20-3cb0-48fb-fbaa-1cee981d3496"
   },
   "outputs": [
    {
     "name": "stderr",
     "output_type": "stream",
     "text": [
      "Constructor H2OConf(spark) with spark argument is deprecated. Please use just H2OConf(). The argument will be removed in release 3.32.\n",
      "Method getOrCreate with spark argument is deprecated. Please use either just getOrCreate() or if you need to pass extra H2OConf, use getOrCreate(conf). The spark argument will be removed in release 3.32.\n"
     ]
    }
   ],
   "source": [
    "from pysparkling import *\n",
    "\n",
    "from pyspark.sql import SparkSession\n",
    "\n",
    "import h2o\n",
    "\n",
    "spark = SparkSession.builder.appName(\"SparklingWaterApp\").getOrCreate()\n",
    "\n",
    "h2oConf = H2OConf(spark).set(\"spark.ui.enabled\", \"false\")\n",
    "\n",
    "hc = H2OContext.getOrCreate(spark, conf=h2oConf)"
   ]
  },
  {
   "cell_type": "code",
   "execution_count": 0,
   "metadata": {
    "colab": {},
    "colab_type": "code",
    "id": "5G4fNI9_qLJl"
   },
   "outputs": [],
   "source": [
    "h2Omodel=automlEstimator.fit(train_data)"
   ]
  },
  {
   "cell_type": "code",
   "execution_count": 184,
   "metadata": {
    "colab": {
     "base_uri": "https://localhost:8080/",
     "height": 459
    },
    "colab_type": "code",
    "executionInfo": {
     "elapsed": 145326,
     "status": "ok",
     "timestamp": 1587114692013,
     "user": {
      "displayName": "Gururajan Govindan",
      "photoUrl": "https://lh3.googleusercontent.com/a-/AOh14GgYBf2PzlmOfpD5Bc6iGjaV7fsXDrSlxLCl3q-r=s64",
      "userId": "09321583132982197089"
     },
     "user_tz": -330
    },
    "id": "Z35TOKHCANIc",
    "outputId": "828a1c13-3dc5-488d-a19f-fdd7b15c1194"
   },
   "outputs": [
    {
     "name": "stdout",
     "output_type": "stream",
     "text": [
      "+---+--------------------+----------------------+-------------------+-------------------+-------------------+-------------------+\n",
      "|   |            model_id|mean_residual_deviance|               rmse|                mse|                mae|              rmsle|\n",
      "+---+--------------------+----------------------+-------------------+-------------------+-------------------+-------------------+\n",
      "|  0|StackedEnsemble_A...|   0.08623539022174251|  0.293658628720054|0.08623539022174251| 0.1948805235161904|0.20649690434080695|\n",
      "|  1|StackedEnsemble_B...|   0.08685789513058391|0.29471663531362446|0.08685789513058391|0.18980877662673967|0.20820880586233884|\n",
      "|  2|XGBoost_grid__1_A...|   0.08759886066669297|0.29597104700746146|0.08759886066669297|0.19540657576556517| 0.2109049334905951|\n",
      "|  3|XGBoost_grid__1_A...|   0.08850162881166355| 0.2974922331955299|0.08850162881166355| 0.1907621586573458| 0.2096435292168523|\n",
      "|  4|XGBoost_grid__1_A...|   0.08854175305653592| 0.2975596630199327|0.08854175305653592|0.20073529298060408|0.21205343109543828|\n",
      "|  5|XGBoost_grid__1_A...|   0.09040353452603403| 0.3006718053393667|0.09040353452603403| 0.1933035498189035|0.21162443247910617|\n",
      "|  6|XGBoost_grid__1_A...|   0.09067922989881963|  0.301129921958645|0.09067922989881963|0.19930176576164282| 0.2122869633366299|\n",
      "|  7|XGBoost_grid__1_A...|   0.09068046651840604|0.30113197525072966|0.09068046651840604|0.20329067424357494| 0.2146858407116883|\n",
      "|  8|XGBoost_grid__1_A...|   0.09144165898480561| 0.3023932191448836|0.09144165898480561|0.19048746619547638|0.21305204019928867|\n",
      "|  9|XGBoost_grid__1_A...|   0.09147365885820966| 0.3024461255466991|0.09147365885820966| 0.2023545800246925|0.21578431284519092|\n",
      "| 10|XGBoost_grid__1_A...|   0.09241610650217315| 0.3040001751679975|0.09241610650217315| 0.1925877467772671|0.21386879078973905|\n",
      "| 11|XRT_1_AutoML_2020...|   0.09491906398671927| 0.3080893766210047|0.09491906398671927|0.20182592046447095|0.21430071623705582|\n",
      "| 12|XGBoost_grid__1_A...|   0.09600632492884768|0.30984887433851954|0.09600632492884768| 0.2137183727365788|0.22326309026988395|\n",
      "| 13|XGBoost_grid__1_A...|   0.09702925756652006|0.31149519669895404|0.09702925756652006|0.18982328592895348| 0.2183551441177444|\n",
      "| 14|GBM_grid__1_AutoM...|   0.09710408125018363| 0.3116152776264085|0.09710408125018363|0.21015527230050562|0.21946435644727183|\n",
      "| 15|DRF_1_AutoML_2020...|   0.09735130502280889|0.31201170654770133|0.09735130502280889|0.20320327101431995| 0.2178807674387156|\n",
      "| 16|GBM_grid__1_AutoM...|   0.09755335782624243|0.31233532913559814|0.09755335782624243| 0.2080640237052925|0.22128391367302014|\n",
      "| 17|DeepLearning_1_Au...|   0.09794516561506096| 0.3129619235866577|0.09794516561506096|0.19867707181676997|0.21825904439922275|\n",
      "| 18|GBM_4_AutoML_2020...|   0.09814182224565304|0.31327595223006355|0.09814182224565304|0.20150241559740592|0.22032779500705263|\n",
      "| 19|GBM_grid__1_AutoM...|   0.09827476992298491| 0.3134880698256074|0.09827476992298491| 0.2236855720681685|0.22376542493864796|\n",
      "+---+--------------------+----------------------+-------------------+-------------------+-------------------+-------------------+\n",
      "only showing top 20 rows\n",
      "\n"
     ]
    }
   ],
   "source": [
    "automlEstimator.getLeaderboard().show()"
   ]
  },
  {
   "cell_type": "code",
   "execution_count": 0,
   "metadata": {
    "colab": {},
    "colab_type": "code",
    "id": "2vRZhYV9ANST"
   },
   "outputs": [],
   "source": [
    "predicted=h2Omodel.transform(test_data)"
   ]
  },
  {
   "cell_type": "code",
   "execution_count": 186,
   "metadata": {
    "colab": {
     "base_uri": "https://localhost:8080/",
     "height": 122
    },
    "colab_type": "code",
    "executionInfo": {
     "elapsed": 145313,
     "status": "ok",
     "timestamp": 1587114692015,
     "user": {
      "displayName": "Gururajan Govindan",
      "photoUrl": "https://lh3.googleusercontent.com/a-/AOh14GgYBf2PzlmOfpD5Bc6iGjaV7fsXDrSlxLCl3q-r=s64",
      "userId": "09321583132982197089"
     },
     "user_tz": -330
    },
    "id": "q0h4e_dgANYO",
    "outputId": "d6e55a36-4f7a-47ec-bc0b-c45718febbaa"
   },
   "outputs": [
    {
     "data": {
      "text/plain": [
       "[Row(c1=None, c2=20.08, c3=0.125, c4='u', c5='g', c6='q', c7='v', c8=1.0, c9='f', c10='t', c11=1, c12='f', c13='g', c14=240, c15=768, c16=1, prediction=0.08759043665393279),\n",
       " Row(c1=None, c2=20.42, c3=7.5, c4='u', c5='g', c6='k', c7='v', c8=1.5, c9='t', c10='t', c11=1, c12='f', c13='g', c14=160, c15=234, c16=1, prediction=0.8377112804811344),\n",
       " Row(c1=None, c2=26.5, c3=2.71, c4='y', c5='p', c6=None, c7=None, c8=0.085, c9='f', c10='f', c11=0, c12='f', c13='s', c14=80, c15=0, c16=0, prediction=0.03992549425216558),\n",
       " Row(c1=None, c2=29.5, c3=2.0, c4='y', c5='p', c6='e', c7='h', c8=2.0, c9='f', c10='f', c11=0, c12='f', c13='g', c14=256, c15=17, c16=0, prediction=0.13630896486466565),\n",
       " Row(c1=None, c2=29.75, c3=0.665, c4='u', c5='g', c6='w', c7='v', c8=0.25, c9='f', c10='f', c11=0, c12='t', c13='g', c14=300, c15=0, c16=0, prediction=-0.009407543947649474)]"
      ]
     },
     "execution_count": 186,
     "metadata": {
      "tags": []
     },
     "output_type": "execute_result"
    }
   ],
   "source": [
    "predicted.take(5)"
   ]
  },
  {
   "cell_type": "code",
   "execution_count": 0,
   "metadata": {
    "colab": {},
    "colab_type": "code",
    "id": "I117o4u_ANdq"
   },
   "outputs": [],
   "source": [
    "#h2Omodel.save('h20spark.model')"
   ]
  },
  {
   "cell_type": "markdown",
   "metadata": {
    "colab_type": "text",
    "id": "3MNu6APBHW8p"
   },
   "source": [
    "**Performing Imputations and other preprocessing before applying AutoML**"
   ]
  },
  {
   "cell_type": "code",
   "execution_count": 0,
   "metadata": {
    "colab": {},
    "colab_type": "code",
    "id": "8oFxIUb_ANqf"
   },
   "outputs": [],
   "source": [
    "stages = []\n",
    "\n",
    "for categoricalCol in categorical:\n",
    "    stringIndexer = StringIndexer(inputCol = categoricalCol, outputCol = categoricalCol + 'Index',handleInvalid='skip')\n",
    "    encoder = OneHotEncoderEstimator(inputCols=[stringIndexer.getOutputCol()], outputCols=[categoricalCol + \"catVec\"])\n",
    "    stages += [stringIndexer, encoder]"
   ]
  },
  {
   "cell_type": "code",
   "execution_count": 0,
   "metadata": {
    "colab": {},
    "colab_type": "code",
    "id": "toXidnpBANtk"
   },
   "outputs": [],
   "source": [
    "label_Idx=StringIndexer(inputCol='c16',outputCol='label')\n",
    "stages += [label_Idx]"
   ]
  },
  {
   "cell_type": "code",
   "execution_count": 190,
   "metadata": {
    "colab": {
     "base_uri": "https://localhost:8080/",
     "height": 340
    },
    "colab_type": "code",
    "executionInfo": {
     "elapsed": 146007,
     "status": "ok",
     "timestamp": 1587114692779,
     "user": {
      "displayName": "Gururajan Govindan",
      "photoUrl": "https://lh3.googleusercontent.com/a-/AOh14GgYBf2PzlmOfpD5Bc6iGjaV7fsXDrSlxLCl3q-r=s64",
      "userId": "09321583132982197089"
     },
     "user_tz": -330
    },
    "id": "OzasxXXoANyU",
    "outputId": "3e066c4e-dc15-4efa-ac88-8df3bf370d36"
   },
   "outputs": [
    {
     "data": {
      "text/plain": [
       "[StringIndexer_f68bc2b23f72,\n",
       " OneHotEncoderEstimator_fe4622f2a2e8,\n",
       " StringIndexer_7c3c33063432,\n",
       " OneHotEncoderEstimator_cf934d14e83f,\n",
       " StringIndexer_89ad984913fd,\n",
       " OneHotEncoderEstimator_4420266aa1a5,\n",
       " StringIndexer_88fa44f7f1c2,\n",
       " OneHotEncoderEstimator_473b0d3cdeba,\n",
       " StringIndexer_822b303f84a5,\n",
       " OneHotEncoderEstimator_e07d0d378cbd,\n",
       " StringIndexer_5765a649a158,\n",
       " OneHotEncoderEstimator_d4ca2197599a,\n",
       " StringIndexer_8a5f28b26a57,\n",
       " OneHotEncoderEstimator_66e133f1e554,\n",
       " StringIndexer_ca5846268a96,\n",
       " OneHotEncoderEstimator_8494b90be740,\n",
       " StringIndexer_620fb4f3e085,\n",
       " OneHotEncoderEstimator_901e5be5f88c,\n",
       " StringIndexer_54484e92d670]"
      ]
     },
     "execution_count": 190,
     "metadata": {
      "tags": []
     },
     "output_type": "execute_result"
    }
   ],
   "source": [
    "stages"
   ]
  },
  {
   "cell_type": "code",
   "execution_count": 0,
   "metadata": {
    "colab": {},
    "colab_type": "code",
    "id": "z2fgJhFZAN5s"
   },
   "outputs": [],
   "source": [
    "numericCols = ['c2','c3','c8','c11','c14','c15']\n",
    "assemblerInputs = [c + \"catVec\" for c in categorical] + numericCols\n",
    "assembler = VectorAssembler(inputCols=assemblerInputs, outputCol=\"features\",handleInvalid='skip')\n",
    "stages += [assembler]"
   ]
  },
  {
   "cell_type": "code",
   "execution_count": 0,
   "metadata": {
    "colab": {},
    "colab_type": "code",
    "id": "EhzLajYlAN8w"
   },
   "outputs": [],
   "source": [
    "\n",
    "from pyspark.ml import Pipeline\n",
    "pipeline = Pipeline(stages = stages)"
   ]
  },
  {
   "cell_type": "code",
   "execution_count": 193,
   "metadata": {
    "colab": {
     "base_uri": "https://localhost:8080/",
     "height": 357
    },
    "colab_type": "code",
    "executionInfo": {
     "elapsed": 145947,
     "status": "ok",
     "timestamp": 1587114692781,
     "user": {
      "displayName": "Gururajan Govindan",
      "photoUrl": "https://lh3.googleusercontent.com/a-/AOh14GgYBf2PzlmOfpD5Bc6iGjaV7fsXDrSlxLCl3q-r=s64",
      "userId": "09321583132982197089"
     },
     "user_tz": -330
    },
    "id": "ScFjdaYuAN3l",
    "outputId": "78daf0a9-e284-4f29-db6b-8d1be57e5322"
   },
   "outputs": [
    {
     "data": {
      "text/plain": [
       "[StringIndexer_f68bc2b23f72,\n",
       " OneHotEncoderEstimator_fe4622f2a2e8,\n",
       " StringIndexer_7c3c33063432,\n",
       " OneHotEncoderEstimator_cf934d14e83f,\n",
       " StringIndexer_89ad984913fd,\n",
       " OneHotEncoderEstimator_4420266aa1a5,\n",
       " StringIndexer_88fa44f7f1c2,\n",
       " OneHotEncoderEstimator_473b0d3cdeba,\n",
       " StringIndexer_822b303f84a5,\n",
       " OneHotEncoderEstimator_e07d0d378cbd,\n",
       " StringIndexer_5765a649a158,\n",
       " OneHotEncoderEstimator_d4ca2197599a,\n",
       " StringIndexer_8a5f28b26a57,\n",
       " OneHotEncoderEstimator_66e133f1e554,\n",
       " StringIndexer_ca5846268a96,\n",
       " OneHotEncoderEstimator_8494b90be740,\n",
       " StringIndexer_620fb4f3e085,\n",
       " OneHotEncoderEstimator_901e5be5f88c,\n",
       " StringIndexer_54484e92d670,\n",
       " VectorAssembler_45fb1d3a63ea]"
      ]
     },
     "execution_count": 193,
     "metadata": {
      "tags": []
     },
     "output_type": "execute_result"
    }
   ],
   "source": [
    "pipeline.getStages()"
   ]
  },
  {
   "cell_type": "code",
   "execution_count": 0,
   "metadata": {
    "colab": {},
    "colab_type": "code",
    "id": "c6HF2fWDAN0_"
   },
   "outputs": [],
   "source": [
    "pipelineModel = pipeline.fit(train_data)\n",
    "trainprepdf=pipelineModel.transform(train_data)\n",
    "testprepdf=pipelineModel.transform(test_data)"
   ]
  },
  {
   "cell_type": "code",
   "execution_count": 195,
   "metadata": {
    "colab": {
     "base_uri": "https://localhost:8080/",
     "height": 357
    },
    "colab_type": "code",
    "executionInfo": {
     "elapsed": 149320,
     "status": "ok",
     "timestamp": 1587114696192,
     "user": {
      "displayName": "Gururajan Govindan",
      "photoUrl": "https://lh3.googleusercontent.com/a-/AOh14GgYBf2PzlmOfpD5Bc6iGjaV7fsXDrSlxLCl3q-r=s64",
      "userId": "09321583132982197089"
     },
     "user_tz": -330
    },
    "id": "zqA0MCpnANwZ",
    "outputId": "5d0ea9fe-97e8-4adf-f568-9efb256befbb"
   },
   "outputs": [
    {
     "data": {
      "text/plain": [
       "[StringIndexer_f68bc2b23f72,\n",
       " OneHotEncoderEstimator_fe4622f2a2e8,\n",
       " StringIndexer_7c3c33063432,\n",
       " OneHotEncoderEstimator_cf934d14e83f,\n",
       " StringIndexer_89ad984913fd,\n",
       " OneHotEncoderEstimator_4420266aa1a5,\n",
       " StringIndexer_88fa44f7f1c2,\n",
       " OneHotEncoderEstimator_473b0d3cdeba,\n",
       " StringIndexer_822b303f84a5,\n",
       " OneHotEncoderEstimator_e07d0d378cbd,\n",
       " StringIndexer_5765a649a158,\n",
       " OneHotEncoderEstimator_d4ca2197599a,\n",
       " StringIndexer_8a5f28b26a57,\n",
       " OneHotEncoderEstimator_66e133f1e554,\n",
       " StringIndexer_ca5846268a96,\n",
       " OneHotEncoderEstimator_8494b90be740,\n",
       " StringIndexer_620fb4f3e085,\n",
       " OneHotEncoderEstimator_901e5be5f88c,\n",
       " StringIndexer_54484e92d670,\n",
       " VectorAssembler_45fb1d3a63ea]"
      ]
     },
     "execution_count": 195,
     "metadata": {
      "tags": []
     },
     "output_type": "execute_result"
    }
   ],
   "source": [
    "pipeline.getStages()"
   ]
  },
  {
   "cell_type": "code",
   "execution_count": 0,
   "metadata": {
    "colab": {},
    "colab_type": "code",
    "id": "0QDQPuPGANVb"
   },
   "outputs": [],
   "source": [
    "h2Omodel=automlEstimator.fit(trainprepdf)"
   ]
  },
  {
   "cell_type": "code",
   "execution_count": 197,
   "metadata": {
    "colab": {
     "base_uri": "https://localhost:8080/",
     "height": 459
    },
    "colab_type": "code",
    "executionInfo": {
     "elapsed": 2041,
     "status": "ok",
     "timestamp": 1587114860449,
     "user": {
      "displayName": "Gururajan Govindan",
      "photoUrl": "https://lh3.googleusercontent.com/a-/AOh14GgYBf2PzlmOfpD5Bc6iGjaV7fsXDrSlxLCl3q-r=s64",
      "userId": "09321583132982197089"
     },
     "user_tz": -330
    },
    "id": "QvTCBW6Mac6N",
    "outputId": "f2657fd9-9bd4-4d47-84f8-60d5a8fd9d6f"
   },
   "outputs": [
    {
     "name": "stdout",
     "output_type": "stream",
     "text": [
      "+---+--------------------+----------------------+-------------------+-------------------+-------------------+-------------------+\n",
      "|   |            model_id|mean_residual_deviance|               rmse|                mse|                mae|              rmsle|\n",
      "+---+--------------------+----------------------+-------------------+-------------------+-------------------+-------------------+\n",
      "|  0|StackedEnsemble_B...|   0.08282926631893753|0.28780074065043254|0.08282926631893753|0.18403948363416328| 0.2016194897146454|\n",
      "|  1|XGBoost_grid__1_A...|   0.08377084699217045| 0.2894319384452422|0.08377084699217045|0.18098389896345726| 0.2034183914017368|\n",
      "|  2|StackedEnsemble_A...|   0.08536942614690744| 0.2921804684555548|0.08536942614690744|0.18563664678546246| 0.2043405892741573|\n",
      "|  3|GBM_grid__1_AutoM...|   0.08999900085115604|  0.299998334747305|0.08999900085115604|0.20855298953263218|0.21274936507332742|\n",
      "|  4|XRT_1_AutoML_2020...|   0.09118458329280626| 0.3019678514226411|0.09118458329280626|0.19297384256768368|0.21090673677941887|\n",
      "|  5|XGBoost_grid__1_A...|   0.09138036928156396| 0.3022918610905096|0.09138036928156396| 0.1872170509379587|0.21242163023949545|\n",
      "|  6|XGBoost_grid__1_A...|    0.0932656699016238| 0.3053942859675403| 0.0932656699016238|0.19146443075603908|0.21426442769896994|\n",
      "|  7|XGBoost_grid__1_A...|   0.09332945421415469|0.30549869756539827|0.09332945421415469|0.20108230518706052|0.21628607537949646|\n",
      "|  8|XGBoost_grid__1_A...|   0.09354930481922308|0.30585830840312817|0.09354930481922308|0.19568707685411713|0.21493224918878362|\n",
      "|  9|XGBoost_grid__1_A...|   0.09377916336563247|  0.306233837721491|0.09377916336563247|0.21011661548673372|0.21691038141239063|\n",
      "| 10|XGBoost_grid__1_A...|   0.09417096793826676| 0.3068728856355132|0.09417096793826676|0.19312023196691347|0.21550388742400842|\n",
      "| 11|XGBoost_grid__1_A...|   0.09453137312370644| 0.3074595471337757|0.09453137312370644| 0.1939679624121866|0.21541972637661225|\n",
      "| 12|XGBoost_grid__1_A...|   0.09469381987648452| 0.3077236095532556|0.09469381987648452| 0.1809137288435006|0.21544405856514579|\n",
      "| 13|XGBoost_grid__1_A...|   0.09482637674962742|  0.307938917237863|0.09482637674962742|0.17800751291675332| 0.2140339130877242|\n",
      "| 14|XGBoost_grid__1_A...|   0.09525165389128669| 0.3086286666712713|0.09525165389128669| 0.2031742376309854|0.21650013924645264|\n",
      "| 15|XGBoost_grid__1_A...|    0.0955072444137285|0.30904246377112726| 0.0955072444137285|0.17862796467027547| 0.2158935975017868|\n",
      "| 16|XGBoost_1_AutoML_...|   0.09593189461062211| 0.3097287435977199|0.09593189461062211|0.20218832632641734|0.21845810374153066|\n",
      "| 17|XGBoost_grid__1_A...|    0.0964582816853087| 0.3105773360780028| 0.0964582816853087| 0.1792139090873577|0.21710634454445346|\n",
      "| 18|XGBoost_grid__1_A...|   0.09652792659454576| 0.3106894375329579|0.09652792659454576|0.18907087570355263|0.21654584190333348|\n",
      "| 19|XGBoost_grid__1_A...|   0.09670022402947487| 0.3109665963242272|0.09670022402947487|0.19930915045149533|0.21864920588473913|\n",
      "+---+--------------------+----------------------+-------------------+-------------------+-------------------+-------------------+\n",
      "only showing top 20 rows\n",
      "\n"
     ]
    }
   ],
   "source": [
    "automlEstimator.getLeaderboard().show()"
   ]
  },
  {
   "cell_type": "code",
   "execution_count": 0,
   "metadata": {
    "colab": {},
    "colab_type": "code",
    "id": "-jd6OHwOagnd"
   },
   "outputs": [],
   "source": [
    "predicted=h2Omodel.transform(testprepdf)"
   ]
  },
  {
   "cell_type": "code",
   "execution_count": 199,
   "metadata": {
    "colab": {
     "base_uri": "https://localhost:8080/",
     "height": 122
    },
    "colab_type": "code",
    "executionInfo": {
     "elapsed": 2347,
     "status": "ok",
     "timestamp": 1587114877400,
     "user": {
      "displayName": "Gururajan Govindan",
      "photoUrl": "https://lh3.googleusercontent.com/a-/AOh14GgYBf2PzlmOfpD5Bc6iGjaV7fsXDrSlxLCl3q-r=s64",
      "userId": "09321583132982197089"
     },
     "user_tz": -330
    },
    "id": "RZcFFvSmagyA",
    "outputId": "b4517d83-d918-4f71-f827-cc7a11e86b68"
   },
   "outputs": [
    {
     "data": {
      "text/plain": [
       "[Row(c1='a', c2=15.83, c3=0.585, c4='u', c5='g', c6='c', c7='h', c8=1.5, c9='t', c10='t', c11=2, c12='f', c13='g', c14=100, c15=0, c16=1, c1Index=1.0, c1catVec=SparseVector(1, {}), c4Index=0.0, c4catVec=SparseVector(2, {0: 1.0}), c5Index=0.0, c5catVec=SparseVector(2, {0: 1.0}), c6Index=0.0, c6catVec=SparseVector(13, {0: 1.0}), c7Index=1.0, c7catVec=SparseVector(8, {1: 1.0}), c9Index=0.0, c9catVec=SparseVector(1, {0: 1.0}), c10Index=1.0, c10catVec=SparseVector(1, {}), c12Index=0.0, c12catVec=SparseVector(1, {0: 1.0}), c13Index=0.0, c13catVec=SparseVector(2, {0: 1.0}), label=1.0, features=SparseVector(37, {1: 1.0, 3: 1.0, 5: 1.0, 19: 1.0, 26: 1.0, 28: 1.0, 29: 1.0, 31: 15.83, 32: 0.585, 33: 1.5, 34: 2.0, 35: 100.0}), prediction=0.840554080568131),\n",
       " Row(c1='a', c2=16.0, c3=0.165, c4='u', c5='g', c6='aa', c7='v', c8=1.0, c9='f', c10='t', c11=2, c12='t', c13='g', c14=320, c15=1, c16=0, c1Index=1.0, c1catVec=SparseVector(1, {}), c4Index=0.0, c4catVec=SparseVector(2, {0: 1.0}), c5Index=0.0, c5catVec=SparseVector(2, {0: 1.0}), c6Index=4.0, c6catVec=SparseVector(13, {4: 1.0}), c7Index=0.0, c7catVec=SparseVector(8, {0: 1.0}), c9Index=1.0, c9catVec=SparseVector(1, {}), c10Index=1.0, c10catVec=SparseVector(1, {}), c12Index=1.0, c12catVec=SparseVector(1, {}), c13Index=0.0, c13catVec=SparseVector(2, {0: 1.0}), label=0.0, features=SparseVector(37, {1: 1.0, 3: 1.0, 9: 1.0, 18: 1.0, 29: 1.0, 31: 16.0, 32: 0.165, 33: 1.0, 34: 2.0, 35: 320.0, 36: 1.0}), prediction=0.004457263357193162),\n",
       " Row(c1='a', c2=16.92, c3=0.5, c4='u', c5='g', c6='i', c7='v', c8=0.165, c9='f', c10='t', c11=6, c12='t', c13='g', c14=240, c15=35, c16=0, c1Index=1.0, c1catVec=SparseVector(1, {}), c4Index=0.0, c4catVec=SparseVector(2, {0: 1.0}), c5Index=0.0, c5catVec=SparseVector(2, {0: 1.0}), c6Index=2.0, c6catVec=SparseVector(13, {2: 1.0}), c7Index=0.0, c7catVec=SparseVector(8, {0: 1.0}), c9Index=1.0, c9catVec=SparseVector(1, {}), c10Index=1.0, c10catVec=SparseVector(1, {}), c12Index=1.0, c12catVec=SparseVector(1, {}), c13Index=0.0, c13catVec=SparseVector(2, {0: 1.0}), label=0.0, features=SparseVector(37, {1: 1.0, 3: 1.0, 7: 1.0, 18: 1.0, 29: 1.0, 31: 16.92, 32: 0.5, 33: 0.165, 34: 6.0, 35: 240.0, 36: 35.0}), prediction=0.031860362712927005),\n",
       " Row(c1='a', c2=17.83, c3=11.0, c4='u', c5='g', c6='x', c7='h', c8=1.0, c9='t', c10='t', c11=11, c12='f', c13='g', c14=0, c15=3000, c16=1, c1Index=1.0, c1catVec=SparseVector(1, {}), c4Index=0.0, c4catVec=SparseVector(2, {0: 1.0}), c5Index=0.0, c5catVec=SparseVector(2, {0: 1.0}), c6Index=7.0, c6catVec=SparseVector(13, {7: 1.0}), c7Index=1.0, c7catVec=SparseVector(8, {1: 1.0}), c9Index=0.0, c9catVec=SparseVector(1, {0: 1.0}), c10Index=1.0, c10catVec=SparseVector(1, {}), c12Index=0.0, c12catVec=SparseVector(1, {0: 1.0}), c13Index=0.0, c13catVec=SparseVector(2, {0: 1.0}), label=1.0, features=SparseVector(37, {1: 1.0, 3: 1.0, 12: 1.0, 19: 1.0, 26: 1.0, 28: 1.0, 29: 1.0, 31: 17.83, 32: 11.0, 33: 1.0, 34: 11.0, 36: 3000.0}), prediction=1.062630128966479),\n",
       " Row(c1='a', c2=18.08, c3=0.375, c4='l', c5='gg', c6='cc', c7='ff', c8=10.0, c9='f', c10='f', c11=0, c12='t', c13='s', c14=300, c15=0, c16=1, c1Index=1.0, c1catVec=SparseVector(1, {}), c4Index=2.0, c4catVec=SparseVector(2, {}), c5Index=2.0, c5catVec=SparseVector(2, {}), c6Index=8.0, c6catVec=SparseVector(13, {8: 1.0}), c7Index=3.0, c7catVec=SparseVector(8, {3: 1.0}), c9Index=1.0, c9catVec=SparseVector(1, {}), c10Index=0.0, c10catVec=SparseVector(1, {0: 1.0}), c12Index=1.0, c12catVec=SparseVector(1, {}), c13Index=1.0, c13catVec=SparseVector(2, {1: 1.0}), label=1.0, features=SparseVector(37, {13: 1.0, 21: 1.0, 27: 1.0, 30: 1.0, 31: 18.08, 32: 0.375, 33: 10.0, 35: 300.0}), prediction=0.16368239235200374)]"
      ]
     },
     "execution_count": 199,
     "metadata": {
      "tags": []
     },
     "output_type": "execute_result"
    }
   ],
   "source": [
    "predicted.take(5)"
   ]
  }
 ],
 "metadata": {
  "colab": {
   "authorship_tag": "ABX9TyObtBtYg4mPDXwcMXKXMzPd",
   "name": "Spark and H2o AutoML.ipynb",
   "provenance": []
  },
  "hide_input": false,
  "kernelspec": {
   "display_name": "Python 3",
   "language": "python",
   "name": "python3"
  },
  "language_info": {
   "codemirror_mode": {
    "name": "ipython",
    "version": 3
   },
   "file_extension": ".py",
   "mimetype": "text/x-python",
   "name": "python",
   "nbconvert_exporter": "python",
   "pygments_lexer": "ipython3",
   "version": "3.7.6"
  },
  "toc": {
   "base_numbering": 1,
   "nav_menu": {},
   "number_sections": true,
   "sideBar": true,
   "skip_h1_title": false,
   "title_cell": "Table of Contents",
   "title_sidebar": "Contents",
   "toc_cell": false,
   "toc_position": {},
   "toc_section_display": true,
   "toc_window_display": false
  },
  "varInspector": {
   "cols": {
    "lenName": 16,
    "lenType": 16,
    "lenVar": 40
   },
   "kernels_config": {
    "python": {
     "delete_cmd_postfix": "",
     "delete_cmd_prefix": "del ",
     "library": "var_list.py",
     "varRefreshCmd": "print(var_dic_list())"
    },
    "r": {
     "delete_cmd_postfix": ") ",
     "delete_cmd_prefix": "rm(",
     "library": "var_list.r",
     "varRefreshCmd": "cat(var_dic_list()) "
    }
   },
   "types_to_exclude": [
    "module",
    "function",
    "builtin_function_or_method",
    "instance",
    "_Feature"
   ],
   "window_display": false
  }
 },
 "nbformat": 4,
 "nbformat_minor": 1
}
